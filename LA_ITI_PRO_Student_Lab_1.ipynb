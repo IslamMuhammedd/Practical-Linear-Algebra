{
 "cells": [
  {
   "cell_type": "markdown",
   "metadata": {},
   "source": [
    "# LAB 1: Matrix and Vector Computations in python\n",
    "In this lab you will use python to study the following topics:\n",
    "\n",
    "- How to create matrices and vectors in python.\n",
    "\n",
    "- How to manipulate matrices in python and create matrices of special types.\n",
    "\n",
    "- How to add matrices and multiply a vector by a matrix by python.\n",
    "\n",
    "- Solving System of Linear Equations Using Gaussian Elimination.\n",
    "\n",
    "- Matrix Multiplication using Different views."
   ]
  },
  {
   "cell_type": "markdown",
   "metadata": {},
   "source": [
    "# First: you should run this cell"
   ]
  },
  {
   "cell_type": "code",
   "execution_count": 3,
   "metadata": {},
   "outputs": [],
   "source": [
    "# Make all numpy available via shorter 'np' prefix\n",
    "import numpy as np\n",
    "\n",
    "import sympy as sym"
   ]
  },
  {
   "cell_type": "code",
   "execution_count": null,
   "metadata": {},
   "outputs": [],
   "source": []
  },
  {
   "cell_type": "markdown",
   "metadata": {},
   "source": [
    "# Question 1 :Declaring scalars, vectors, and matrices\n",
    "\n",
    "a) Use [numpy.array](https://numpy.org/doc/stable/reference/generated/numpy.array.html) to declare the following:\n",
    "\n",
    "1. A scalar $s = 5$\n",
    "2. A vector $v = \\begin{bmatrix} 5  \\\\ -2 \\\\ 4  \\\\ \\end{bmatrix}$\n",
    "3. A matrix $A = \\begin{bmatrix} 1 & 2 & 3  \\\\ 4 & 5 & 6 \\\\ 7 & 8 & 9  \\\\ \\end{bmatrix}$\n",
    "4. A matrix $B = \\begin{bmatrix} 1 & 2 & 3  \\\\ 4 & 5 & 6 \\\\ \\end{bmatrix}$\n",
    "5. A matrix $C = \\begin{bmatrix} 1 & 2   \\\\ 3 & 4  \\\\ 5 & 6   \\\\ \\end{bmatrix}$"
   ]
  },
  {
   "cell_type": "code",
   "execution_count": 34,
   "metadata": {},
   "outputs": [],
   "source": [
    "#type your code here:\n",
    "s = np.int_(5)\n",
    "v = np.array([\n",
    "    [5],\n",
    "    [-2],\n",
    "    [4]\n",
    "])\n",
    "\n",
    "A = np.array([\n",
    "    [1 , 2 ,3],\n",
    "    [4,5,6],\n",
    "    [7,8,9]\n",
    "])\n",
    "\n",
    "B = np.array([\n",
    "    [1,2,3],\n",
    "    [4,5,6]\n",
    "])\n",
    "\n",
    "C = np.array([\n",
    "    [1,2],\n",
    "    [3,4],\n",
    "    [5,6]\n",
    "])"
   ]
  },
  {
   "cell_type": "markdown",
   "metadata": {},
   "source": [
    "b) Print the data type of $s, v,$ and $A$ using `type` command in python."
   ]
  },
  {
   "cell_type": "code",
   "execution_count": 35,
   "metadata": {},
   "outputs": [
    {
     "name": "stdout",
     "output_type": "stream",
     "text": [
      "<class 'numpy.int32'>\n",
      "<class 'numpy.ndarray'>\n",
      "<class 'numpy.ndarray'>\n",
      "<class 'numpy.ndarray'>\n",
      "<class 'numpy.ndarray'>\n"
     ]
    }
   ],
   "source": [
    "#type your code here:\n",
    "print(type(s))\n",
    "print(type(v))\n",
    "print(type(A))\n",
    "print(type(B))\n",
    "print(type(C))\n",
    "\n"
   ]
  },
  {
   "cell_type": "code",
   "execution_count": null,
   "metadata": {},
   "outputs": [],
   "source": []
  },
  {
   "cell_type": "markdown",
   "metadata": {},
   "source": [
    "c) Using [numpy.shape](https://numpy.org/devdocs/reference/generated/numpy.shape.html) or `A.shape` print the shape of $s, v, A, B,$ and $C$."
   ]
  },
  {
   "cell_type": "code",
   "execution_count": 36,
   "metadata": {},
   "outputs": [
    {
     "name": "stdout",
     "output_type": "stream",
     "text": [
      "()\n",
      "(3, 1)\n",
      "(3, 3)\n",
      "(2, 3)\n",
      "(3, 2)\n"
     ]
    }
   ],
   "source": [
    "#type your code here:\n",
    "print(s.shape)\n",
    "print(v.shape)\n",
    "print(A.shape)\n",
    "print(B.shape)\n",
    "print(C.shape)\n",
    "\n"
   ]
  },
  {
   "cell_type": "markdown",
   "metadata": {},
   "source": [
    "d) To access a given entry in the `numpy array` put the `row number - 1` and `column number - 1` in square brackets following the array name. Ex `a32 = A[2, 1]`.\n",
    "- Print the value of the third row and the second column of the matrix $A$.\n",
    "- Change it to $10$.\n",
    "- Print the matrix A to check the entry is changed."
   ]
  },
  {
   "cell_type": "code",
   "execution_count": 37,
   "metadata": {},
   "outputs": [
    {
     "name": "stdout",
     "output_type": "stream",
     "text": [
      "8\n",
      "[[1 2 3]\n",
      " [4 5 6]\n",
      " [7 8 9]]\n"
     ]
    }
   ],
   "source": [
    "#type your code here:\n",
    "print(A[2,1])\n",
    "\n",
    "A = np.array([\n",
    "    [1 , 2 ,3],\n",
    "    [4,5,6],\n",
    "    [7,10,9]\n",
    "])\n",
    "print(A)"
   ]
  },
  {
   "cell_type": "markdown",
   "metadata": {},
   "source": [
    "e)To access a whole row or column of a matrix, use the colon operator. For example, `A[:, [1]]` is the second column of A, while `B[[1], :]` is the second row of B."
   ]
  },
  {
   "cell_type": "code",
   "execution_count": 32,
   "metadata": {},
   "outputs": [
    {
     "data": {
      "text/plain": [
       "[[1, 2, 3], [4, 5, 6], [7, 10, 9]]"
      ]
     },
     "execution_count": 32,
     "metadata": {},
     "output_type": "execute_result"
    }
   ],
   "source": []
  },
  {
   "cell_type": "code",
   "execution_count": 38,
   "metadata": {},
   "outputs": [
    {
     "name": "stdout",
     "output_type": "stream",
     "text": [
      "[[ 2]\n",
      " [ 5]\n",
      " [10]]\n",
      "[[4 5 6]]\n"
     ]
    }
   ],
   "source": [
    "#type your code here:\n",
    "print(A[:,[1]])\n",
    "print(B[[1],:])\n"
   ]
  },
  {
   "cell_type": "markdown",
   "metadata": {},
   "source": [
    "f) Type each of the following commands that generate special matrices:\n",
    "- `np.eye(4), np.zeros(3), np.zeros((3, 1)), np.zeros((3, 5)), np.ones((2, 3)), and np.diag([4, 5, 6, 7])`"
   ]
  },
  {
   "cell_type": "code",
   "execution_count": 39,
   "metadata": {},
   "outputs": [
    {
     "name": "stdout",
     "output_type": "stream",
     "text": [
      "[[1. 0. 0. 0.]\n",
      " [0. 1. 0. 0.]\n",
      " [0. 0. 1. 0.]\n",
      " [0. 0. 0. 1.]]\n",
      "[0. 0. 0.]\n",
      "[[0.]\n",
      " [0.]\n",
      " [0.]]\n",
      "[[0. 0. 0. 0. 0.]\n",
      " [0. 0. 0. 0. 0.]\n",
      " [0. 0. 0. 0. 0.]]\n",
      "[[1. 1. 1.]\n",
      " [1. 1. 1.]]\n",
      "[[4 0 0 0]\n",
      " [0 5 0 0]\n",
      " [0 0 6 0]\n",
      " [0 0 0 7]]\n"
     ]
    },
    {
     "data": {
      "text/plain": [
       "(None, None)"
      ]
     },
     "execution_count": 39,
     "metadata": {},
     "output_type": "execute_result"
    }
   ],
   "source": [
    "#type your code here:\n",
    "print(np.eye(4)), print(np.zeros(3)), print(np.zeros((3, 1))), print(np.zeros((3, 5)))\n",
    "print(np.ones((2, 3))), print(np.diag([4, 5, 6, 7]))\n"
   ]
  },
  {
   "cell_type": "markdown",
   "metadata": {},
   "source": [
    "# Question 2. Vectors Addition, Scaling, and dot product"
   ]
  },
  {
   "cell_type": "markdown",
   "metadata": {},
   "source": [
    "a) Declare vectors $v1 = \\begin{bmatrix} 1  \\\\ 2 \\\\ 7  \\\\ 4 \\\\ \\end{bmatrix}$ and $v2 = \\begin{bmatrix} 4  \\\\ 3 \\\\ 6  \\\\ 8 \\\\ \\end{bmatrix}$\n",
    "\n",
    "- Addition: $v1 + v2$\n",
    "- Subtraction: $v1 - v2$\n",
    "- Scaling by a number: $3 * v1$\n",
    "- Scaling by a number: $v1 / 2$"
   ]
  },
  {
   "cell_type": "code",
   "execution_count": 40,
   "metadata": {},
   "outputs": [
    {
     "name": "stdout",
     "output_type": "stream",
     "text": [
      "[[ 5]\n",
      " [ 5]\n",
      " [13]\n",
      " [12]]\n",
      "[[-3]\n",
      " [-1]\n",
      " [ 1]\n",
      " [-4]]\n",
      "[[ 3]\n",
      " [ 6]\n",
      " [21]\n",
      " [12]]\n",
      "[[0.5]\n",
      " [1. ]\n",
      " [3.5]\n",
      " [2. ]]\n"
     ]
    }
   ],
   "source": [
    "#type your code here:\n",
    "v1 = np.array([\n",
    "    [1],\n",
    "    [2],\n",
    "    [7],\n",
    "    [4]\n",
    "])\n",
    "v2 = np.array([\n",
    "    [4],\n",
    "    [3],\n",
    "    [6],\n",
    "    [8]\n",
    "])\n",
    "print(v1+v2)\n",
    "print(v1-v2)\n",
    "print(3*v1)\n",
    "print(v1/2)"
   ]
  },
  {
   "cell_type": "markdown",
   "metadata": {},
   "source": [
    "b) Find the dot product between the two vectors $v1$ and $v2$ using the following:\n",
    "\n",
    "- [numpy.dot](https://numpy.org/doc/stable/reference/generated/numpy.dot.html)\n",
    "- [numpy.matmul](https://numpy.org/doc/stable/reference/generated/numpy.matmul.html#numpy.matmul)\n",
    "- `v1.T @ v2`"
   ]
  },
  {
   "cell_type": "code",
   "execution_count": 42,
   "metadata": {},
   "outputs": [
    {
     "name": "stdout",
     "output_type": "stream",
     "text": [
      "[[84]]\n",
      "[[84]]\n",
      "[[84]]\n"
     ]
    }
   ],
   "source": [
    "#type your code here:\n",
    "print(np.dot(v1.T,v2))\n",
    "print(np.matmul(v1.T,v2))\n",
    "print(v1.T @ v2)"
   ]
  },
  {
   "cell_type": "markdown",
   "metadata": {},
   "source": [
    "c) Find the length of the vectors $v1$ and $v2$.\n",
    "- Using [numpy.linalg.norm](https://numpy.org/doc/stable/reference/generated/numpy.linalg.norm.html)\n",
    "- Using the dot product and [numpy.sqrt](https://numpy.org/doc/stable/reference/generated/numpy.sqrt.html)\n"
   ]
  },
  {
   "cell_type": "code",
   "execution_count": 43,
   "metadata": {},
   "outputs": [
    {
     "name": "stdout",
     "output_type": "stream",
     "text": [
      "length of v1 using numpy.linalg.norm =\n",
      "8.366600265340756\n",
      "\n",
      "length of v1 using numpy.linalg.norm =\n",
      "11.180339887498949\n",
      "\n",
      "length of v1 Using the dot product and numpy.sqrt =\n",
      "[[8.36660027]]\n",
      "\n",
      "length of v2 Using the dot product and numpy.sqrt =\n",
      "[[11.18033989]]\n",
      "\n"
     ]
    }
   ],
   "source": [
    "#type your code here:\n",
    "print(f\"length of v1 using numpy.linalg.norm =\\n{np.linalg.norm(v1)}\\n\")\n",
    "print(f\"length of v1 using numpy.linalg.norm =\\n{np.linalg.norm(v2)}\\n\")\n",
    "print(f\"length of v1 Using the dot product and numpy.sqrt =\\n{np.sqrt(v1.T @ v1)}\\n\")\n",
    "print(f\"length of v2 Using the dot product and numpy.sqrt =\\n{np.sqrt(v2.T @ v2)}\\n\")"
   ]
  },
  {
   "cell_type": "markdown",
   "metadata": {},
   "source": [
    "d) Show that the vectors $u = \\begin{bmatrix} 3  \\\\ 2 \\\\ -1  \\\\ 4 \\\\ \\end{bmatrix}$ and $v = \\begin{bmatrix} 1  \\\\ -1 \\\\ 1  \\\\ 0 \\\\ \\end{bmatrix}$ are orthogonal.\n"
   ]
  },
  {
   "cell_type": "code",
   "execution_count": 44,
   "metadata": {},
   "outputs": [
    {
     "name": "stdout",
     "output_type": "stream",
     "text": [
      "u.T @ v\n",
      "[[0]]\n",
      "\n"
     ]
    }
   ],
   "source": [
    "#type your code here:\n",
    "u = np.array([\n",
    "    [3],\n",
    "    [2],\n",
    "    [-1],\n",
    "    [4]\n",
    "])\n",
    "v= np.array([[1],[-1],[1],[0]])\n",
    "\n",
    "print(f\"u.T @ v = \\n{u.T @ v}\\n\")"
   ]
  },
  {
   "cell_type": "markdown",
   "metadata": {},
   "source": [
    "# Question 3. Matrix Addition and Matrix-Vector Multiplication\n",
    "\n",
    "Declare vectors $u$ and $v$ and matrices $A$ and $B$ as following:\n",
    "- $u = \\begin{bmatrix} 2  \\\\ 7 \\\\ 2 \\\\ \\end{bmatrix}$, $v = \\begin{bmatrix} 8  \\\\ 2 \\\\ 4 \\\\ \\end{bmatrix}$\n",
    "- $A = \\begin{bmatrix} 7 & 3 & 5  \\\\ 4 & 6 & 2 \\\\ \\end{bmatrix}$, $B = \\begin{bmatrix} 0 & 6 & 4  \\\\ 2 & 3 & 0 \\\\ \\end{bmatrix}$\n",
    "\n",
    "a) Calculate the following using python.\n",
    "\n",
    "- $A+B$\n",
    "- $B+A$\n",
    "- $3A$\n",
    "- $6B$\n",
    "- $2(3B)$\n",
    "- $6A+15B$\n",
    "- $3(2A+5B)$\n",
    "- $(3A^T)^T$"
   ]
  },
  {
   "cell_type": "code",
   "execution_count": 46,
   "metadata": {},
   "outputs": [
    {
     "name": "stdout",
     "output_type": "stream",
     "text": [
      "[[7 9 9]\n",
      " [6 9 2]]\n",
      "===================\n",
      "[[7 9 9]\n",
      " [6 9 2]]\n",
      "===================\n",
      "[[21  9 15]\n",
      " [12 18  6]]\n",
      "===================\n",
      "[[ 0 36 24]\n",
      " [12 18  0]]\n",
      "===================\n",
      "[[ 0 36 24]\n",
      " [12 18  0]]\n",
      "===================\n",
      "[[ 42 108  90]\n",
      " [ 54  81  12]]\n",
      "===================\n",
      "[[ 42 108  90]\n",
      " [ 54  81  12]]\n",
      "===================\n",
      "[[21  9 15]\n",
      " [12 18  6]]\n"
     ]
    }
   ],
   "source": [
    "#type your code here:\n",
    "u = np.array([[2],[7],[2]])\n",
    "v = np.array([[8],[2],[4]])\n",
    "A = np.array([\n",
    "    [7,3,5],\n",
    "    [4,6,2]\n",
    "])\n",
    "B = np.array([\n",
    "    [0,6,4],\n",
    "    [2,3,0]\n",
    "])\n",
    "\n",
    "print(A+B)\n",
    "print(\"===================\")\n",
    "print(B+A)\n",
    "print(\"===================\")\n",
    "print(3*A)\n",
    "print(\"===================\")\n",
    "print(6*B)\n",
    "print(\"===================\")\n",
    "print(2*(3*B))\n",
    "print(\"===================\")\n",
    "print(6*A + 15*B)\n",
    "print(\"===================\")\n",
    "print(3*(2*A + 5*B))\n",
    "print(\"===================\")\n",
    "print((3*A.T).T)"
   ]
  },
  {
   "cell_type": "markdown",
   "metadata": {},
   "source": [
    "b) To obtain the matrix-vector product $Au$ using python, type `A @ u`. Calculate the following:\n",
    "\n",
    "- $Au+Av$\n",
    "- $A(u+v)$\n",
    "- $(A+B)u$\n",
    "- $Au+Bu$\n",
    "- $A(3u)$\n",
    "- $3A(u)$"
   ]
  },
  {
   "cell_type": "code",
   "execution_count": 50,
   "metadata": {},
   "outputs": [
    {
     "name": "stdout",
     "output_type": "stream",
     "text": [
      "Au + Av = \n",
      "[[127]\n",
      " [106]]\n",
      "A(u + v) = \n",
      "[[127]\n",
      " [106]]\n",
      "(A + B) * u = \n",
      "[[110]\n",
      " [ 74]]\n",
      "Au + Bu = \n",
      "[[95]\n",
      " [79]]\n",
      "A*(3u) = \n",
      " [[135]\n",
      " [162]]\n",
      "3A (u)\n",
      " [[135]\n",
      " [162]]\n"
     ]
    }
   ],
   "source": [
    "#type your code here:\n",
    "print(f\"Au + Av = \\n{A @ u + A @ v }\")\n",
    "print(f\"A(u + v) = \\n{A @ (u+v)}\")\n",
    "print(f\"(A + B) * u = \\n{(A+B) @ v}\")\n",
    "print(f\"Au + Bu = \\n{A @ u + B @ u }\")\n",
    "print(f\"A*(3u) = \\n {A @ (3*u)}\")\n",
    "print(f\"3A (u)\\n {(3*A) @ u}\")\n"
   ]
  },
  {
   "cell_type": "markdown",
   "metadata": {},
   "source": [
    "# Question 4. Gaussian Elimination and Reduced Row-Echelon Form"
   ]
  },
  {
   "cell_type": "markdown",
   "metadata": {},
   "source": [
    "You will see a step-by-step example of the row operations that transform a matrix $A$ into its reduced row echelon form $R = rref(A)$. In this demonstration, each pivot is chosen to be the largest in its column (for numerical stability), so extra row interchanges are used. Since $rref(A)$ is uniquely determined by $A$, this does not affect the final answer.\n",
    "\n",
    "The built in [rref](https://docs.sympy.org/latest/tutorial/matrices.html#rref) method `sympy.rref()` method just search for the method and its output to deal with the code."
   ]
  },
  {
   "cell_type": "markdown",
   "metadata": {},
   "source": [
    "#### (a) Generate and display a $3 \\times 4$ matrix $A$ with random integer entries "
   ]
  },
  {
   "cell_type": "code",
   "execution_count": 51,
   "metadata": {},
   "outputs": [
    {
     "name": "stdout",
     "output_type": "stream",
     "text": [
      "\n",
      " A = \n",
      " [[9. 9. 3. 7.]\n",
      " [7. 3. 5. 5.]\n",
      " [9. 1. 0. 1.]]\n"
     ]
    }
   ],
   "source": [
    "#type your code here:\n",
    "A = np.fix((10*(np.random.rand(3,4))))\n",
    "print(\"\\n A = \\n\", A)"
   ]
  },
  {
   "cell_type": "markdown",
   "metadata": {},
   "source": [
    "- To transform $A$ into $R = rref(A)$, start with $R = A$.\n",
    "- Normalize the first row of R to get R(1st row, 1st column) = 1\n",
    "\n",
    "    - `R = A`\n",
    "    - `R[0,:] = R[0, :] / R[0, 0]`\n",
    "\n",
    "(note the use of the colon to operate on whole rows of the matrix). \n",
    "\n",
    "<div class=\"alert alert-block alert-warning\">If your random matrix happens to have A(1, 1) = 0, then interchange rows to get a nonzero entry in the (1, 1) position before doing the calculation above.</div>\n",
    "\n",
    "- Now subtract a multiple of the first row of R from the second row to make R(2, 1) = 0:\n",
    "\n",
    "    - `R[1, :] = R[1, :] - R[1, 0] * R[0, :]`\n",
    "\n",
    "- Repeat this procedure to make R(3, 1) = 0:\n",
    "\n",
    "    - `R[2, :] = R[2, :] - R[2, 0] * R[0, :]`\n",
    "\n",
    "The first column of your matrix $R$ should now be the same as the first column of $rref(A)$."
   ]
  },
  {
   "cell_type": "code",
   "execution_count": 56,
   "metadata": {},
   "outputs": [
    {
     "name": "stdout",
     "output_type": "stream",
     "text": [
      "[[9. 9. 3. 7.]\n",
      " [7. 3. 5. 5.]\n",
      " [9. 1. 0. 1.]]\n",
      "[[1.         1.         0.33333333 0.77777778]\n",
      " [7.         3.         5.         5.        ]\n",
      " [9.         1.         0.         1.        ]]\n",
      "[[ 1.          1.          0.33333333  0.77777778]\n",
      " [ 0.         -4.          2.66666667 -0.44444444]\n",
      " [ 9.          1.          0.          1.        ]]\n",
      "[[ 1.          1.          0.33333333  0.77777778]\n",
      " [ 0.         -4.          2.66666667 -0.44444444]\n",
      " [ 0.         -8.         -3.         -6.        ]]\n"
     ]
    }
   ],
   "source": [
    "#type your code here:\n",
    "R = np.copy(A)\n",
    "\n",
    "R[0,:] = R[0, :] / R[0, 0]\n",
    "\n",
    "R[1, :] = R[1, :] - R[1, 0] * R[0, :]\n",
    "\n",
    "R[2,:] = R[2,:] - R[2,0] * R[0,:]\n",
    "\n",
    "print(R)"
   ]
  },
  {
   "cell_type": "markdown",
   "metadata": {},
   "source": [
    "#### (b)Operate on $R$ by the same method as in (a) to obtain the second column of $rref(A)$. First normalize row $2$ of $R$, then subtract multiples of row $2$ from rows $1$ and $3$ to put zeros in the (1, 2) and (3, 2) positions. Be sure to refer to the entries in your matrix symbolically as was done in part (a)"
   ]
  },
  {
   "cell_type": "code",
   "execution_count": 59,
   "metadata": {},
   "outputs": [
    {
     "name": "stdout",
     "output_type": "stream",
     "text": [
      "[[ 1.          0.          1.          0.66666667]\n",
      " [-0.          1.         -0.66666667  0.11111111]\n",
      " [ 0.          0.         -8.33333333 -5.11111111]]\n"
     ]
    }
   ],
   "source": [
    "#type your code here:\n",
    "R[1,:] = R[1, :] / R[1, 1]\n",
    "\n",
    "R[0,:] = R[0,:] - R[0,1] * R[1,:]\n",
    "\n",
    "R[2,:] = R[2,:] - R[2,1] * R[1,:]\n",
    "\n",
    "print(R)"
   ]
  },
  {
   "cell_type": "markdown",
   "metadata": {},
   "source": [
    "#### (c) Operate on $R$ by the same method as in (b) to obtain the third column of $rref(A)$. First normalize row $3$ of $R$, then subtract multiples of row $3$ from rows $1$ and $2$ to put zeros in the (1, 3) and (2, 3) positions."
   ]
  },
  {
   "cell_type": "code",
   "execution_count": 61,
   "metadata": {},
   "outputs": [
    {
     "name": "stdout",
     "output_type": "stream",
     "text": [
      "[[ 1.          0.          0.          0.05333333]\n",
      " [-0.          1.          0.          0.52      ]\n",
      " [-0.         -0.          1.          0.61333333]]\n"
     ]
    }
   ],
   "source": [
    "#type your code here:\n",
    "R[2,:] = R[2, :] / R[2, 2]\n",
    "\n",
    "R[0,:] = R[0,:] - R[0,2] * R[2,:]\n",
    "\n",
    "R[1,:] = R[1,:] - R[1,2] * R[2,:]\n",
    "\n",
    "print(R)\n",
    "\n"
   ]
  },
  {
   "cell_type": "markdown",
   "metadata": {},
   "source": [
    "#### (d) Your matrix $R$ should now be transformed into $rref(A)$ (since $A$ is a random $3 \\times 4$ matrix, $rref(A)$ is (almost) sure to have rank (3) `np.linalg.matrix_rank(R)`. Check your answer by python with the rref method . If the answer is not the same as the current value of your $R$, go back and redo your calculations.\n",
    "\n",
    "- use the the built in rref method `sympy.rref()`\n",
    "- print the output matrix in numpy array type\n",
    "\n",
    "    - `M = sym.Matrix(A)`\n",
    "    - `M_rref = M.rref()`\n",
    "    - `R = np.array((M_rref[0])).astype(np.float64)`"
   ]
  },
  {
   "cell_type": "code",
   "execution_count": 63,
   "metadata": {},
   "outputs": [
    {
     "name": "stdout",
     "output_type": "stream",
     "text": [
      "rank =3\n",
      "\n",
      "(Matrix([\n",
      "[1, 0, 0, 0.0533333333333333],\n",
      "[0, 1, 0,               0.52],\n",
      "[0, 0, 1,  0.613333333333333]]), (0, 1, 2))\n"
     ]
    }
   ],
   "source": [
    "#type your code here:\n",
    "\n",
    "# Use sympy.rref() method \n",
    "print(f\"rank ={np.linalg.matrix_rank(R)}\\n\")\n",
    "M = sym.Matrix(A)\n",
    "M_rref = M.rref()\n",
    "R = np.array((M_rref[0])).astype(np.float64)\n",
    "print(M_rref)"
   ]
  },
  {
   "cell_type": "markdown",
   "metadata": {},
   "source": [
    "# Question 5. Matrix Multiplication using Different views"
   ]
  },
  {
   "cell_type": "markdown",
   "metadata": {},
   "source": [
    "we discussed in the lecture four different ways about product $AB = C$ where $A$ and $B$ are arbitry matrices. If $A$ is an $m \\times n$ matrix and $B$ is an $n \\times p$ matrix, then $C$ is an $m \\times p$ matrix:\n",
    "\n",
    "1. **Standard(row times column):** The standard way of describing a matrix product is to say that $c_(ij)$ equals the dot product of row $i$ of matrix $A$ and column $j$ of matrix $B$. \n",
    " \n",
    "2. **Columns:** The product of matrix $A$ and column $j$ of matrix $B$ equals column $j$ of matrix  $C$. This tells us that the columns of $C$ are combinations of columns of $A$.\n",
    "\n",
    "3. **Rows:** The product of row $i$ of matrix $A$ and matrix $B$ equals row $i$ of matrix $C$.So the rows of $C$ are combinations of rows of $B$.\n",
    "\n",
    "4. **Column times row**: A column of $A$ is an $m \\times 1$ vector and a row of $B$ is a $1 \\times p$ vector.Their product is a matrix."
   ]
  },
  {
   "cell_type": "markdown",
   "metadata": {},
   "source": [
    "In this problem we will use python to perform the matrix multiplication using these different ways, and compute the execution time for each method time.\n",
    "\n",
    "(Write your code as a function that perform the multiplication for arbitrary size of the matrices $A$ and $B$)"
   ]
  },
  {
   "cell_type": "code",
   "execution_count": 73,
   "metadata": {},
   "outputs": [],
   "source": [
    "def check_dimension(A, B):\n",
    "    return A.shape[1] == B.shape[0]\n",
    "\n",
    "def mat_mul_standard(A, B):\n",
    "    if not check_dimension(A, B):\n",
    "        raise Exception('Dimensions aren\\'t consistant')\n",
    "        \n",
    "    m, n = A.shape\n",
    "    n, p = B.shape\n",
    "            \n",
    "    C = np.zeros((m, p))\n",
    "    ################type your code here#####################\n",
    "    C = np.dot(A,B)\n",
    "    \n",
    "\n",
    "    ########################################################        \n",
    "    return C\n",
    "\n",
    "\n",
    "def mat_mul_columns(A, B):\n",
    "    if not check_dimension(A, B):\n",
    "        raise Exception('Dimensions aren\\'t consistant')\n",
    "        \n",
    "    m, n = A.shape\n",
    "    n, p = B.shape\n",
    "            \n",
    "    C = np.zeros((m, p))\n",
    "    ################type your code here#####################\n",
    "    for i in range(p):\n",
    "        temp = A.dot(B[:,i])\n",
    "        for j in range(m):\n",
    "            C[j,i] = temp[j]\n",
    "\n",
    "    ########################################################         \n",
    "    return C\n",
    "\n",
    "def mat_mul_rows(A, B):\n",
    "    if not check_dimension(A, B):\n",
    "        raise Exception('Dimensions aren\\'t consistant')\n",
    "        \n",
    "    m, n = A.shape\n",
    "    n, p = B.shape\n",
    "            \n",
    "    C = np.zeros((m, p))\n",
    "    ################type your code here#####################\n",
    "    for i in range(m):\n",
    "        temp = A[i,:].dot(B)\n",
    "        for j in range(p):\n",
    "            C[i,j] = temp[j]\n",
    "\n",
    "    ########################################################         \n",
    "    return C\n",
    "\n",
    "\n",
    "\n",
    "def mat_mul_column_times_row(A, B):\n",
    "    if not check_dimension(A, B):\n",
    "        raise Exception('Dimensions aren\\'t consistant')\n",
    "        \n",
    "    m, n = A.shape\n",
    "    n, p = B.shape\n",
    "            \n",
    "    C = np.zeros((m, p))\n",
    "    ################type your code here#####################\n",
    "    temp1 = np.zeros((m,1))\n",
    "    temp2 = np.zeros((n,1))\n",
    "    C = 0\n",
    "    for k in range(n):\n",
    "        for x in range(n):\n",
    "            temp2[x,0] = B[k,:][x]\n",
    "        for y in range(m):\n",
    "            temp1[y,0] = A[:,k][y]\n",
    "        \n",
    "        temp3 = temp1.dot(temp2.T)\n",
    "        C += temp3\n",
    "\n",
    "\n",
    "    ########################################################         \n",
    "    return C"
   ]
  },
  {
   "cell_type": "code",
   "execution_count": 64,
   "metadata": {},
   "outputs": [
    {
     "name": "stdout",
     "output_type": "stream",
     "text": [
      "[[3. 5. 2. ... 0. 9. 8.]\n",
      " [5. 9. 0. ... 1. 5. 6.]\n",
      " [8. 0. 6. ... 3. 3. 9.]\n",
      " ...\n",
      " [5. 3. 2. ... 4. 7. 3.]\n",
      " [3. 8. 7. ... 0. 6. 2.]\n",
      " [2. 1. 6. ... 1. 6. 5.]]\n",
      "[[5. 9. 8. ... 1. 5. 8.]\n",
      " [0. 4. 2. ... 5. 0. 8.]\n",
      " [8. 8. 0. ... 8. 5. 1.]\n",
      " ...\n",
      " [9. 1. 9. ... 0. 2. 2.]\n",
      " [5. 0. 6. ... 5. 4. 4.]\n",
      " [9. 7. 6. ... 3. 2. 1.]]\n"
     ]
    }
   ],
   "source": [
    "#A = np.array([[12., 7., 3.],[4., 5., 6.],[7., 8., 9.]])\n",
    "#B = np.array([[5., 8., 1., 2.],[6., 7., 3., 0.],[4., 5., 9., 1.]])\n",
    "\n",
    "A = np.fix((10*(np.random.rand(300, 300))))\n",
    "print(A)\n",
    "B = np.fix((10*(np.random.rand(300, 300))))\n",
    "print(B)"
   ]
  },
  {
   "cell_type": "code",
   "execution_count": 65,
   "metadata": {},
   "outputs": [
    {
     "name": "stdout",
     "output_type": "stream",
     "text": [
      "A @ B = \n",
      " [[5794. 6237. 6016. ... 6639. 6226. 6026.]\n",
      " [5865. 6230. 6080. ... 6646. 6370. 6410.]\n",
      " [5737. 6051. 5613. ... 6375. 6280. 5843.]\n",
      " ...\n",
      " [5842. 6106. 6155. ... 6426. 6695. 6248.]\n",
      " [5617. 5838. 5629. ... 6318. 6270. 5830.]\n",
      " [5840. 5912. 5636. ... 6316. 6136. 5898.]]\n",
      "Wall time: 452 ms\n"
     ]
    }
   ],
   "source": [
    "%%time\n",
    "print('A @ B = \\n', A @ B)"
   ]
  },
  {
   "cell_type": "code",
   "execution_count": 68,
   "metadata": {},
   "outputs": [
    {
     "name": "stdout",
     "output_type": "stream",
     "text": [
      "C_standard = \n",
      " [[5794. 6237. 6016. ... 6639. 6226. 6026.]\n",
      " [5865. 6230. 6080. ... 6646. 6370. 6410.]\n",
      " [5737. 6051. 5613. ... 6375. 6280. 5843.]\n",
      " ...\n",
      " [5842. 6106. 6155. ... 6426. 6695. 6248.]\n",
      " [5617. 5838. 5629. ... 6318. 6270. 5830.]\n",
      " [5840. 5912. 5636. ... 6316. 6136. 5898.]]\n",
      "Wall time: 8 ms\n"
     ]
    }
   ],
   "source": [
    "%%time\n",
    "C_standard = mat_mul_standard(A, B)\n",
    "print('C_standard = \\n', C_standard)"
   ]
  },
  {
   "cell_type": "code",
   "execution_count": 69,
   "metadata": {},
   "outputs": [
    {
     "name": "stdout",
     "output_type": "stream",
     "text": [
      "C_columns = \n",
      " [[5794. 6237. 6016. ... 6639. 6226. 6026.]\n",
      " [5865. 6230. 6080. ... 6646. 6370. 6410.]\n",
      " [5737. 6051. 5613. ... 6375. 6280. 5843.]\n",
      " ...\n",
      " [5842. 6106. 6155. ... 6426. 6695. 6248.]\n",
      " [5617. 5838. 5629. ... 6318. 6270. 5830.]\n",
      " [5840. 5912. 5636. ... 6316. 6136. 5898.]]\n",
      "Wall time: 104 ms\n"
     ]
    }
   ],
   "source": [
    "%%time\n",
    "C_columns = mat_mul_columns(A, B)\n",
    "print('C_columns = \\n', C_columns)"
   ]
  },
  {
   "cell_type": "code",
   "execution_count": 70,
   "metadata": {},
   "outputs": [
    {
     "name": "stdout",
     "output_type": "stream",
     "text": [
      "C_rows = \n",
      " [[5794. 6237. 6016. ... 6639. 6226. 6026.]\n",
      " [5865. 6230. 6080. ... 6646. 6370. 6410.]\n",
      " [5737. 6051. 5613. ... 6375. 6280. 5843.]\n",
      " ...\n",
      " [5842. 6106. 6155. ... 6426. 6695. 6248.]\n",
      " [5617. 5838. 5629. ... 6318. 6270. 5830.]\n",
      " [5840. 5912. 5636. ... 6316. 6136. 5898.]]\n",
      "Wall time: 171 ms\n"
     ]
    }
   ],
   "source": [
    "%%time\n",
    "C_rows = mat_mul_rows(A, B)\n",
    "print('C_rows = \\n', C_rows)"
   ]
  },
  {
   "cell_type": "code",
   "execution_count": 74,
   "metadata": {},
   "outputs": [
    {
     "name": "stdout",
     "output_type": "stream",
     "text": [
      "C_column_times_row = \n",
      " [[5794. 6237. 6016. ... 6639. 6226. 6026.]\n",
      " [5865. 6230. 6080. ... 6646. 6370. 6410.]\n",
      " [5737. 6051. 5613. ... 6375. 6280. 5843.]\n",
      " ...\n",
      " [5842. 6106. 6155. ... 6426. 6695. 6248.]\n",
      " [5617. 5838. 5629. ... 6318. 6270. 5830.]\n",
      " [5840. 5912. 5636. ... 6316. 6136. 5898.]]\n",
      "Wall time: 497 ms\n"
     ]
    }
   ],
   "source": [
    "%%time\n",
    "C_column_times_row = mat_mul_column_times_row(A, B)\n",
    "print('C_column_times_row = \\n', C_column_times_row)"
   ]
  }
 ],
 "metadata": {
  "kernelspec": {
   "display_name": "Python 3 (ipykernel)",
   "language": "python",
   "name": "python3"
  },
  "language_info": {
   "codemirror_mode": {
    "name": "ipython",
    "version": 3
   },
   "file_extension": ".py",
   "mimetype": "text/x-python",
   "name": "python",
   "nbconvert_exporter": "python",
   "pygments_lexer": "ipython3",
   "version": "3.8.12"
  }
 },
 "nbformat": 4,
 "nbformat_minor": 4
}
