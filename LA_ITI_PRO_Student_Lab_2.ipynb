{
 "cells": [
  {
   "cell_type": "code",
   "execution_count": null,
   "metadata": {},
   "outputs": [],
   "source": [
    "## Name : Eslam Mohamed Mohamed\n",
    "## SW   : Lab2 Linear Algebra \n",
    "## Date : 21/1/2022"
   ]
  },
  {
   "cell_type": "markdown",
   "metadata": {},
   "source": [
    "# LAB 2: Linear Equations and Matrix Algebra\n",
    "\n",
    "In this lab you will use python to study the following topics:\n",
    "\n",
    "- Solving a system of linear equations by using the reduced row echelon form of the augmented matrix of the system.\n",
    "\n",
    "- Forming linear combinations of a set of vectors and the fundamental concepts of linear independence.\n",
    "\n",
    "- Matrix multiplication and its properties."
   ]
  },
  {
   "cell_type": "markdown",
   "metadata": {},
   "source": [
    "# First: you should run this cell"
   ]
  },
  {
   "cell_type": "code",
   "execution_count": 29,
   "metadata": {},
   "outputs": [],
   "source": [
    "# Make all numpy available via shorter 'np' prefix\n",
    "import numpy as np\n",
    "# Make all sympy available via shorter 'sym' prefix\n",
    "import sympy as sym\n",
    "\n",
    "\n",
    "# matplotlib library\n",
    "import matplotlib.pyplot as plt\n",
    "from matplotlib import cm\n",
    "from matplotlib.ticker import LinearLocator\n",
    "\n",
    "\n",
    "def rvect(m):\n",
    "    return np.fix((10 * (np.random.rand(m, 1))))\n",
    "\n",
    "\n",
    "def rmat(m, n):\n",
    "    return np.fix((10 * (np.random.rand(m, n))))\n",
    "\n",
    "\n",
    "def rref(A):\n",
    "    return np.array(sym.Matrix(A).rref(iszerofunc=lambda x:sym.comp(x,0,1e-13))[0], np.float64)\n",
    "\n",
    "\n",
    "def nulbasis(A):\n",
    "    A = sym.Matrix(A)\n",
    "    tmp =  A.nullspace()\n",
    "    n = len(tmp)\n",
    "    m = len(tmp[0])\n",
    "    N = np.zeros((m,n))\n",
    "    for i in range(m):\n",
    "        for j in range(n):\n",
    "                N[i,j] = tmp[j][i] \n",
    "    return N"
   ]
  },
  {
   "cell_type": "markdown",
   "metadata": {},
   "source": [
    "# Question 1. Solving Ax = b"
   ]
  },
  {
   "cell_type": "markdown",
   "metadata": {},
   "source": [
    "In this question you will find the general solution $x \\in R^3$ to a linear system $Ax = b$ of 3 equations in 5\n",
    "variables $x_1, x_2, x_3, x_4, x_5$. Here $A$ is the $3 \\times 5$ coeffient matrix system $b \\in R^3$ is the given right-hand side of the system"
   ]
  },
  {
   "cell_type": "markdown",
   "metadata": {},
   "source": [
    "<h4> \n",
    "    (a) Use rmat function that was defined in the first cell to generate a random $3 \\times5$ integer matrix $A$ and to check that columns 1, 2, 3 of $A$ are the pivot columns.\n",
    "</h4>\n",
    "\n",
    "- `A = rmat(3, 5)`\n",
    "- `np.linalg.matrix_rank(A[:, 0:3])`\n"
   ]
  },
  {
   "cell_type": "code",
   "execution_count": 20,
   "metadata": {},
   "outputs": [
    {
     "name": "stdout",
     "output_type": "stream",
     "text": [
      "[[1. 4. 4. 8. 3.]\n",
      " [5. 3. 4. 9. 3.]\n",
      " [5. 3. 6. 5. 0.]]\n"
     ]
    },
    {
     "data": {
      "text/plain": [
       "3"
      ]
     },
     "execution_count": 20,
     "metadata": {},
     "output_type": "execute_result"
    }
   ],
   "source": [
    "#type your code here:\n",
    "A = rmat(3, 5)\n",
    "print(A)\n",
    "np.linalg.matrix_rank(A[:,0:3])"
   ]
  },
  {
   "cell_type": "markdown",
   "metadata": {},
   "source": [
    "Note the use of the colon operator to select columns 1, 2, 3 of $A$. If the rank is less than 3, generate a new A\n",
    "(this is unlikely, but it can happen). Include all the matrices that you generate this way in your lab report.\n",
    "<h4>\n",
    "When you have an $A$ for which the rank of the first three columns is 3:\n",
    "</h4>\n",
    "\n",
    "- Generate a random vector $b \\in R^3$\n",
    "\n",
    "- The reduced row echelon form R of the augmented matrix $\\begin{bmatrix} A & b   \\end{bmatrix}$:\n"
   ]
  },
  {
   "cell_type": "code",
   "execution_count": 21,
   "metadata": {},
   "outputs": [
    {
     "name": "stdout",
     "output_type": "stream",
     "text": [
      "[[6.]\n",
      " [9.]\n",
      " [7.]]\n",
      "[[1. 4. 4. 8. 3. 6.]\n",
      " [5. 3. 4. 9. 3. 9.]\n",
      " [5. 3. 6. 5. 0. 7.]]\n",
      "--------------\n",
      "[[ 1.          0.          0.          1.17647059  0.52941176  1.29411765]\n",
      " [ 0.          1.          0.          3.70588235  2.11764706  2.17647059]\n",
      " [ 0.          0.          1.         -2.         -1.5        -1.        ]]\n"
     ]
    }
   ],
   "source": [
    "#type your code here:\n",
    "b = rvect(3)\n",
    "print(b)\n",
    "augmented_matrix = np.concatenate((A,b),axis=1)\n",
    "print(augmented_matrix)\n",
    "print(\"--------------\")\n",
    "R = rref(augmented_matrix)\n",
    "print(R)"
   ]
  },
  {
   "cell_type": "markdown",
   "metadata": {},
   "source": [
    "<h4>\n",
    "     To get the reduced row echelon form S = rref(A) just remove the last column from R:\n",
    "</h4>\n",
    "\n",
    "- `S = R[:, :-1] or R[:, 0:5]`\n"
   ]
  },
  {
   "cell_type": "code",
   "execution_count": 5,
   "metadata": {},
   "outputs": [
    {
     "data": {
      "text/plain": [
       "array([[ 1.   ,  0.   ,  0.   ,  5.625,  7.125],\n",
       "       [ 0.   ,  1.   ,  0.   , -1.5  , -1.75 ],\n",
       "       [ 0.   ,  0.   ,  1.   ,  0.25 ,  0.   ]])"
      ]
     },
     "execution_count": 5,
     "metadata": {},
     "output_type": "execute_result"
    }
   ],
   "source": [
    "#type your code here:\n",
    "# The rref of the matrix A \"S\"\n",
    "\n",
    "S = R[:,0:5]\n",
    "S\n"
   ]
  },
  {
   "cell_type": "markdown",
   "metadata": {},
   "source": [
    "(Note the use of the colon operator to select columns 1 to 5 of R).\n",
    "<h4>Check by python that S = rref(A)</h4>"
   ]
  },
  {
   "cell_type": "code",
   "execution_count": 6,
   "metadata": {},
   "outputs": [
    {
     "name": "stdout",
     "output_type": "stream",
     "text": [
      "[[ True  True  True  True  True]\n",
      " [ True  True  True  True  True]\n",
      " [ True  True  True  True  True]]\n",
      "======\n",
      "[[ 1.     0.     0.     5.625  7.125]\n",
      " [ 0.     1.     0.    -1.5   -1.75 ]\n",
      " [ 0.     0.     1.     0.25   0.   ]]\n"
     ]
    }
   ],
   "source": [
    "#type your code here:\n",
    "print(S==rref(A))\n",
    "print(\"======\")\n",
    "print(rref(A))"
   ]
  },
  {
   "cell_type": "markdown",
   "metadata": {},
   "source": [
    "#### then write answers to the following:\n",
    "\n",
    "\n",
    "1. Which columns of $S$ are the pivot columns?\n",
    "2. What is the rank of $R$ and the rank of $A$?\n",
    "3. What is the nullity of $A$ and which variables $x_i$ are be the free variables?\n",
    "4. Why does the equation $Ax = b$ have a solution?\n",
    "\n"
   ]
  },
  {
   "cell_type": "markdown",
   "metadata": {},
   "source": [
    "### -------------------------------------Type your answer here------------------------------------------------------------ ###\n",
    "1- The first 3 columns are The pivot Ones \"Check The Diagonal of 1's\"\n",
    "2- The Rank of R  = The Rank of A = 3\n",
    "3- the nullity is 2 x4,x5. The free variables are in the last 2 columns \"x4 and x5\"\n",
    "4- Because \"b\" belongs to the space of \"A\" OR  b is a linear combination of the columns of A.\n",
    "\n",
    "### ---------------------------------------------------------------------------------------------------------------------------------- ###"
   ]
  },
  {
   "cell_type": "markdown",
   "metadata": {},
   "source": [
    "#### Print the rank of A, R, and S matrices"
   ]
  },
  {
   "cell_type": "code",
   "execution_count": 7,
   "metadata": {},
   "outputs": [
    {
     "name": "stdout",
     "output_type": "stream",
     "text": [
      "3\n",
      "----------------\n",
      "3\n",
      "-----------------\n",
      "3\n"
     ]
    }
   ],
   "source": [
    "#type your code here:\n",
    "print(np.linalg.matrix_rank(A))\n",
    "print(\"----------------\")\n",
    "print(np.linalg.matrix_rank(R))\n",
    "print(\"-----------------\")\n",
    "print(np.linalg.matrix_rank(S))"
   ]
  },
  {
   "cell_type": "markdown",
   "metadata": {},
   "source": [
    "#### (b) Use python to obtain (the last column of $R$), `c = R[:, [-1]]`. set `x = np.block([[c], [0], [0]])`. $x \\in R^5$ and the last two components of $x$ are zeros. then:\n",
    "\n",
    "\n",
    "1. Calculate by python that $Ax - b = 0$ and $Sx - c = 0$.  (i)</li>\n",
    "2. Use properties of row reduction to explain why the equations in (i) are true.\n",
    "\n",
    "\n"
   ]
  },
  {
   "cell_type": "markdown",
   "metadata": {},
   "source": [
    "### -------------------------------------Type your answer here------------------------------------------------------------ ###\n",
    "The equation is True because of that the rref of the original matrix won't affect or change its balance. For example if\n",
    "Ax = b ---> (1), then the rref of the Augmented matrix A and b would be in the form S and c respectively so S=A and c=b but in the rref form. substitue A and b by S and c in Eq. (1) so Sx = c then Sx - c = 0 .\n",
    "\n",
    "### ---------------------------------------------------------------------------------------------------------------------------------- ###"
   ]
  },
  {
   "cell_type": "code",
   "execution_count": 10,
   "metadata": {},
   "outputs": [
    {
     "name": "stdout",
     "output_type": "stream",
     "text": [
      "[[ 4.125]\n",
      " [ 0.25 ]\n",
      " [-1.   ]]\n",
      "[[ 4.125]\n",
      " [ 0.25 ]\n",
      " [-1.   ]\n",
      " [ 0.   ]\n",
      " [ 0.   ]]\n",
      "-------\n",
      "[[0.]\n",
      " [0.]\n",
      " [0.]]\n",
      "-------\n",
      "[[0.]\n",
      " [0.]\n",
      " [0.]]\n"
     ]
    }
   ],
   "source": [
    "#type your code here:\n",
    "c = R[:,[-1]]\n",
    "print(c)\n",
    "x = np.block([\n",
    "    [c],\n",
    "    [0],\n",
    "    [0]])\n",
    "print(x)\n",
    "print(\"-------\")\n",
    "print((A @ x) - b)\n",
    "print(\"-------\")\n",
    "print((S @ x)-c)"
   ]
  },
  {
   "cell_type": "markdown",
   "metadata": {},
   "source": [
    "#### (c) Use python to calculate\n",
    "\n",
    "- `u = np.block([[-S[:, [3]]], [1], [0]])`\n",
    "- `v = np.block([[-S[:, [4]]], [0], [1]])`\n",
    "\n",
    "\n",
    "1. Give a handwritten explanation, using symbols and linear algebra, rather than numbers, to show why u and v are the vectors that appear in the vector form of the general solution to Ax = 0.\n",
    "    - Confirm by calculating `S @ u`, `A @ u`, `S @ v`, `A @ v`. You should get vectors that are (approximately) zero.\n",
    "    - Now generate a random linear combination of u and v by the commands `s = np.random.rand(1)`, `t = np.random.rand(1)`, and `y = s * u + t * v` (Note that each occurrence of np.random.rand(1) generates a different random coefficient).\n",
    "\n",
    "2. What properties of matrix and vector algebra ensure that Ay = 0?\n",
    "    - Confirm by a python calculation that `A @ y` is approximately zero. \n",
    "\n",
    "\n",
    "\n",
    "\n",
    "\n"
   ]
  },
  {
   "cell_type": "markdown",
   "metadata": {},
   "source": [
    "### -------------------------------------Type your answer here------------------------------------------------------------ ###\n",
    "1- I already draw it but I can't submit it here. But the conclusion is that the 2 vectors lead to the same place when I draw it both lead to the Null space. The tricky part was adding 1 and 0 with different positions in the 2 vectors to multiply it by the value of x4,x5. \n",
    "\n",
    "2- That confirms that the linear combination of the Null Vector will also lead to the null space\n",
    "we have two vectors u and v, both lead to Null space, also after linear combination between them by scaling \"s\" and \"t\" will lead to the same null space \"The same solution\".\n",
    "\n",
    "\n",
    "### ---------------------------------------------------------------------------------------------------------------------------------- ###"
   ]
  },
  {
   "cell_type": "code",
   "execution_count": 11,
   "metadata": {},
   "outputs": [
    {
     "name": "stdout",
     "output_type": "stream",
     "text": [
      "[[-5.625]\n",
      " [ 1.5  ]\n",
      " [-0.25 ]\n",
      " [ 1.   ]\n",
      " [ 0.   ]]\n",
      "----\n",
      "[[-7.125]\n",
      " [ 1.75 ]\n",
      " [-0.   ]\n",
      " [ 0.   ]\n",
      " [ 1.   ]]\n",
      "[[0.]\n",
      " [0.]\n",
      " [0.]]\n",
      "---\n",
      "[[0.]\n",
      " [0.]\n",
      " [0.]]\n",
      "[[-1.77635684e-15]\n",
      " [-1.77635684e-15]\n",
      " [-1.77635684e-15]]\n"
     ]
    }
   ],
   "source": [
    "#type your code here:\n",
    "u = np.block([[-S[:, [3]]], [1], [0]])\n",
    "v = np.block([[-S[:, [4]]], [0], [1]])\n",
    "print(u)\n",
    "print(\"----\")\n",
    "print(v)\n",
    "print(S @ u)\n",
    "print(\"---\")\n",
    "print(A @ u)\n",
    "s = np.random.rand(1)\n",
    "t = np.random.rand(1)\n",
    "\n",
    "y = s * u + t * v\n",
    "\n",
    "print(A @ y)"
   ]
  },
  {
   "cell_type": "markdown",
   "metadata": {},
   "source": [
    "#### (d) Use python to calculate `z = x + y` .\n",
    "- What properties of matrix and vector algebra imply that $Az = b$?\n",
    "- Confirm by a python calculation that `A @ z - b` is approximately zero."
   ]
  },
  {
   "cell_type": "markdown",
   "metadata": {},
   "source": [
    "### -------------------------------------Type your answer here------------------------------------------------------------ ###\n",
    "That's because z is actually equall \"x\" only and \"Y\" equall To Zero.\n",
    "A*(Z) = Ax + Ay = Ax\n",
    "So Az = Ax = b\n",
    "and so Az - b = 0 as shown below.\n",
    "### ---------------------------------------------------------------------------------------------------------------------------------- ###"
   ]
  },
  {
   "cell_type": "code",
   "execution_count": 9,
   "metadata": {},
   "outputs": [
    {
     "name": "stdout",
     "output_type": "stream",
     "text": [
      "-----------A @ z - b--------------\n",
      "[[0.]\n",
      " [0.]\n",
      " [0.]]\n",
      "----------------------------------\n"
     ]
    }
   ],
   "source": [
    "#type your code here:\n",
    "z = x + y\n",
    "print((A @ z) - b)\n"
   ]
  },
  {
   "cell_type": "markdown",
   "metadata": {},
   "source": [
    "# Question 2. Spanning Sets and Linear Independence"
   ]
  },
  {
   "cell_type": "markdown",
   "metadata": {},
   "source": [
    "#### Generate four random vectors in R3 by the command\n",
    "- `u1 = rvect(3)`\n",
    "- `u2 = rvect(3)`\n",
    "- `u3 = rvect(3)`\n",
    "- `u4 = rvect(3)`\n",
    "\n",
    "\n",
    "\n",
    "\n",
    "#### (a) Consider the set of vectors S = {u1, u2, u3}. To determine whether S is linearly independent, form the matrix A with the vectors from S as columns and calculate its reduced row echelon form\n",
    "- `A = np.block([u1, u2, u3])`\n",
    "- `rref(A)`\n",
    "\n",
    "#### Use these calculations to answer the following questions:\n",
    "\n",
    "1. How many free variables does the equation Ax = 0 have?\n",
    "\n",
    "2. Is the set S linearly independent or linearly dependent? Why?"
   ]
  },
  {
   "cell_type": "markdown",
   "metadata": {},
   "source": [
    "### -------------------------------------Type your answer here------------------------------------------------------------ ###\n",
    "1- Zero free variables\n",
    "2- They are linear independent, because it has full rank = 3 OR The rref in the form as shown below.\n",
    "\n",
    "### ---------------------------------------------------------------------------------------------------------------------------------- ###"
   ]
  },
  {
   "cell_type": "code",
   "execution_count": 16,
   "metadata": {},
   "outputs": [
    {
     "name": "stdout",
     "output_type": "stream",
     "text": [
      "[[9. 4. 9.]\n",
      " [6. 1. 2.]\n",
      " [1. 3. 6.]]\n",
      "\n",
      "The Rank is 3\n",
      "--------------\n",
      "[[1. 0. 0.]\n",
      " [0. 1. 0.]\n",
      " [0. 0. 1.]]\n"
     ]
    }
   ],
   "source": [
    "####type your code here:\n",
    "u1 = rvect(3)\n",
    "u2 = rvect(3)\n",
    "u3 = rvect(3)\n",
    "\n",
    "A = np.concatenate((u1,u2,u3), axis=1)\n",
    "print(A)\n",
    "\n",
    "print(\"\\nThe Rank is\",np.linalg.matrix_rank(A))\n",
    "print(\"--------------\")\n",
    "print(rref(A))"
   ]
  },
  {
   "cell_type": "markdown",
   "metadata": {},
   "source": [
    "#### (b) Consider the set of vectors T = {u1, u2, u3, u4}. To determine whether T is linearly independent, form the matrix B with the vectors from T as columns and calculate its reduced row echelon form:\n",
    "\n",
    "- `B = [u1 u2 u3 u4]`\n",
    "- `rref(B)`\n",
    "\n",
    "#### Use these calculations to answer the following questions:\n",
    "\n",
    "1. How many free variables does the equation $Bx = 0$ have?\n",
    "\n",
    "2. Is the set T linearly independent or linearly dependent?"
   ]
  },
  {
   "cell_type": "markdown",
   "metadata": {},
   "source": [
    "### -------------------------------------Type your answer here------------------------------------------------------------ ###\n",
    "1- One free variable\n",
    "2- The last one 'column' is linearly dependent on the rest ones or one of them, in general there's Linear dependency from the rref.\n",
    "\n",
    "### ---------------------------------------------------------------------------------------------------------------------------------- ###"
   ]
  },
  {
   "cell_type": "code",
   "execution_count": 22,
   "metadata": {},
   "outputs": [
    {
     "name": "stdout",
     "output_type": "stream",
     "text": [
      "[[9. 4. 9. 6.]\n",
      " [6. 1. 2. 7.]\n",
      " [1. 3. 6. 8.]]\n",
      "----------\n",
      "[[  1.           0.           0.           0.76470588]\n",
      " [  0.           1.           0.          23.47058824]\n",
      " [  0.           0.           1.         -10.52941176]]\n"
     ]
    }
   ],
   "source": [
    "#type your code here:\n",
    "u4 = rvect(3)\n",
    "B = np.block([u1,u2,u3,u4])\n",
    "print(B)\n",
    "print(\"----------\")\n",
    "print(rref(B))"
   ]
  },
  {
   "cell_type": "markdown",
   "metadata": {},
   "source": [
    "#### (c) Let v be a random linear combination of u1 and u2:\n",
    "\n",
    "- `v = np.random.rand(1) * u1 + np.random.rand(1) * u2`\n",
    "\n",
    "#### Thus v is of the form c1u1 + c2u2 for some scalars c1, c2. Consider the set of vectors U = {u1, u2, v}.\n",
    "\n",
    "1. Is the set U linearly independent or linearly dependent?\n",
    "2. Answer first without calculation using the definition of linear independent sets.\n",
    "\n"
   ]
  },
  {
   "cell_type": "markdown",
   "metadata": {},
   "source": [
    "### -------------------------------------Type your answer here------------------------------------------------------------ ###\n",
    "1- For sure there's linear dependency because the vector v is linearly combined by u1 and u2.\n",
    "2- I explained that without calculations already.\n",
    "\n",
    "### ---------------------------------------------------------------------------------------------------------------------------------- ###"
   ]
  },
  {
   "cell_type": "markdown",
   "metadata": {},
   "source": [
    "#### Check your answer by python using the method of part (a)."
   ]
  },
  {
   "cell_type": "code",
   "execution_count": 26,
   "metadata": {},
   "outputs": [
    {
     "name": "stdout",
     "output_type": "stream",
     "text": [
      "-----------U------------\n",
      "[[9.         4.         6.40533104]\n",
      " [6.         1.         2.73177161]\n",
      " [1.         3.         3.07065871]]\n",
      "------------\n",
      "-------rref(U)-----\n",
      "[[1.         0.         0.30145036]\n",
      " [0.         1.         0.92306945]\n",
      " [0.         0.         0.        ]]\n"
     ]
    }
   ],
   "source": [
    "#type your code here:\n",
    "v = np.random.rand(1) * u1 + np.random.rand(1) * u2\n",
    "U = np.block([u1,u2,v])\n",
    "print(f\"-----------U------------\\n{U}\")\n",
    "print(\"------------\")\n",
    "print(f\"-------rref(U)-----\\n{rref(U)}\")"
   ]
  },
  {
   "cell_type": "markdown",
   "metadata": {},
   "source": [
    "# Question 3 :Visualizing the Column Space"
   ]
  },
  {
   "cell_type": "markdown",
   "metadata": {},
   "source": [
    "In this question you will determine visually whether given vectors lie in the column space of a matrix.\n",
    "Random Seed: Initialize the random number generator by typing\n",
    "rand(’seed’, abcd)\n",
    "where abcd are the last four digits of your student ID number. This will ensure that you generate your own\n",
    "particular random vectors and matrices.\n",
    "\n",
    "#### Now generate a random $3 \\times 2$ integer matrix $A$ by the python and calculate rank(A). Since $A$ is a random matrix, the rank is very likely to be 2. If the rank is not 2, generate another A. Repeat the test until you get a matrix with rank 2.\n",
    "\n",
    "- `A = rmat(3, 2)`\n",
    "- `np.linalg.matrix_rank(A)`\n"
   ]
  },
  {
   "cell_type": "code",
   "execution_count": 40,
   "metadata": {},
   "outputs": [
    {
     "name": "stdout",
     "output_type": "stream",
     "text": [
      "[[8. 1.]\n",
      " [3. 7.]\n",
      " [3. 1.]]\n",
      "-------------\n",
      "2\n",
      "[[1. 0.]\n",
      " [0. 1.]\n",
      " [0. 0.]]\n"
     ]
    }
   ],
   "source": [
    "#type your code here:\n",
    "A = rmat(3, 2)\n",
    "print(A)\n",
    "print(\"-------------\")\n",
    "print(np.linalg.matrix_rank(A))\n",
    "print(rref(A))"
   ]
  },
  {
   "cell_type": "markdown",
   "metadata": {},
   "source": [
    "#### Use this matrix in the rest of the question. If you need to generate more than one matrix, include all the matrices you generate in your lab report.\n",
    "\n",
    "#### (a) Define `u = A[:,[0]]`, `v = A[:,[1]]` to be the column vectors for A. To graph the column space Col(A) of A, enter the python commands:\n",
    "- `s, t = np.meshgrid(np.arange(-1, 1, 0.1), np.arange(-1, 1, 0.1))`\n",
    "- `X = s * u[0] + t * v[0]`\n",
    "- `Y = s * u[1] + t * v[1]`\n",
    "- `Z = s * u[2] + t * v[2]`\n",
    "- Use matplotlib to graph the cloumn space using `plot_surface` as in this [example](https://matplotlib.org/gallery/mplot3d/surface3d.html#sphx-glr-gallery-mplot3d-surface3d-py)\n",
    "- Set graph axis limit -10, 10.\n",
    "- Set the color map of the graph to `cm.hot`."
   ]
  },
  {
   "cell_type": "code",
   "execution_count": 41,
   "metadata": {},
   "outputs": [
    {
     "data": {
      "image/png": "[encoded data removed]",
      "text/plain": [
       "<Figure size 432x288 with 2 Axes>"
      ]
     },
     "metadata": {
      "needs_background": "light"
     },
     "output_type": "display_data"
    }
   ],
   "source": [
    "#type your code here\n",
    "u = A[:,[0]]\n",
    "v = A[:,[1]]\n",
    "s, t = np.meshgrid(np.arange(-1, 1, 0.1), np.arange(-1, 1, 0.1))\n",
    "X = s * u[0] + t * v[0]\n",
    "Y = s * u[1] + t * v[1]\n",
    "Z = s * u[2] + t * v[2]\n",
    "\n",
    "fig, ax = plt.subplots(subplot_kw={\"projection\": \"3d\"})\n",
    "#######################################\n",
    "# Plot the surface.\n",
    "surf = ax.plot_surface(X, Y, Z, cmap=cm.hot,\n",
    "                       linewidth=0, antialiased=False)\n",
    "\n",
    "# Customize the z axis.\n",
    "ax.set_zlim(-10, 10)\n",
    "ax.zaxis.set_major_locator(LinearLocator(10))\n",
    "# A StrMethodFormatter is used automatically\n",
    "\n",
    "# Add a color bar which maps values to colors.\n",
    "fig.colorbar(surf, shrink=0.5, aspect=5)\n",
    "\n",
    "plt.show()"
   ]
  },
  {
   "cell_type": "markdown",
   "metadata": {},
   "source": [
    "#### (b) Generate a random vector in R3 using the `rvect` function\n",
    "- b = rvect(3)"
   ]
  },
  {
   "cell_type": "code",
   "execution_count": 45,
   "metadata": {},
   "outputs": [
    {
     "name": "stdout",
     "output_type": "stream",
     "text": [
      "[[2.]\n",
      " [4.]\n",
      " [3.]]\n"
     ]
    }
   ],
   "source": [
    "#type your code here:\n",
    "b = rvect(3)\n",
    "print(b)"
   ]
  },
  {
   "cell_type": "markdown",
   "metadata": {},
   "source": [
    "#### To graph the line Span(b) in the same figure as Col(A):\n",
    "- Copy the previous code that was used to graph Col(A)\n",
    "- Generate array r. `r = np.arange(-1, 1, 0.05)`\n",
    "- Plot the span(b). `ax.plot(r * b[0], r * b[1], r * b[2], 'b+', markersize=20)`\n",
    "- Note that the previous step should be before plt.show() to plot on the same figure.\n",
    "- Use `ax.view_init(45, 45)` change the values 45, 45 to rotate the figure to different view."
   ]
  },
  {
   "cell_type": "code",
   "execution_count": 46,
   "metadata": {},
   "outputs": [
    {
     "data": {
      "image/png": "[encoded data removed]",
      "text/plain": [
       "<Figure size 432x288 with 2 Axes>"
      ]
     },
     "metadata": {
      "needs_background": "light"
     },
     "output_type": "display_data"
    }
   ],
   "source": [
    "#type your code here:\n",
    "fig, ax = plt.subplots(subplot_kw={\"projection\": \"3d\"})\n",
    "\n",
    "\n",
    "################################################################\n",
    "r = np.arange(-1, 1, 0.05)\n",
    "ax.plot(r * b[0], r * b[1], r * b[2], 'b+', markersize=20)\n",
    "#ax.view_init(45, 45)\n",
    "###############################################################\n",
    "\n",
    "# Plot the surface.\n",
    "#surf = ax.plot_surface(X, Y, Z, cmap=cm.hot)\n",
    "surf = ax.plot_surface(X, Y,Z, cmap=cm.hot)\n",
    "                       \n",
    "\n",
    "# Customize the z axis.\n",
    "\n",
    "# A StrMethodFormatter is used automatically\n",
    "\n",
    "ax.set_zlim(-9, 9)\n",
    "ax.set_xlim(-10, 10)\n",
    "ax.set_ylim(-11, 11)\n",
    "\n",
    "# Add a color bar which maps values to colors.\n",
    "fig.colorbar(surf, shrink=0.5, aspect=5)\n",
    "\n",
    "plt.show()\n"
   ]
  },
  {
   "cell_type": "markdown",
   "metadata": {},
   "source": [
    "#### (c) Can you find a vector $x \\in R^2$ such that $Ax = b$, where $A$ is the matrix and $b$ is the vector that you have generated? Explain why or why not using the graph from part (b).\n"
   ]
  },
  {
   "cell_type": "markdown",
   "metadata": {},
   "source": [
    "### -------------------------------------Type your answer here------------------------------------------------------------ ###\n",
    "\n",
    "No Because as shown in the above graph the vector will be a random line that belong to R1 and A is a plane \"Sub-Space\" that represented in R2\n",
    "\n",
    "### ---------------------------------------------------------------------------------------------------------------------------------- ###"
   ]
  },
  {
   "cell_type": "markdown",
   "metadata": {},
   "source": [
    "#### (d) Generate a random vector lying in Col(A) where:\n",
    "\n",
    "- `z = np.random.rand(2, 1)`\n",
    "- `c = A @ z`"
   ]
  },
  {
   "cell_type": "code",
   "execution_count": 47,
   "metadata": {},
   "outputs": [
    {
     "name": "stdout",
     "output_type": "stream",
     "text": [
      "[[0.2496057 ]\n",
      " [0.75572919]]\n",
      "[[2.7525748 ]\n",
      " [6.03892145]\n",
      " [1.5045463 ]]\n"
     ]
    }
   ],
   "source": [
    "#type your code here:\n",
    "z = np.random.rand(2, 1)\n",
    "print(z)\n",
    "print(\"--------\")\n",
    "c = A @ z\n",
    "print(c)"
   ]
  },
  {
   "cell_type": "markdown",
   "metadata": {},
   "source": [
    "#### Plot a new graph of Span(c) and Col(A)"
   ]
  },
  {
   "cell_type": "code",
   "execution_count": 49,
   "metadata": {},
   "outputs": [
    {
     "data": {
      "image/png": "[encoded data removed]",
      "text/plain": [
       "<Figure size 432x288 with 2 Axes>"
      ]
     },
     "metadata": {
      "needs_background": "light"
     },
     "output_type": "display_data"
    }
   ],
   "source": [
    "#type your code here\n",
    "#type your code here\n",
    "fig, ax = plt.subplots(subplot_kw={\"projection\": \"3d\"})\n",
    "\n",
    "\n",
    "################################################################\n",
    "r = np.arange(-1, 1, 0.05)\n",
    "ax.plot(r * c[0], r * c[1], r * c[2], 'c+', markersize=20)\n",
    "#ax.view_init(45, 45)\n",
    "###############################################################\n",
    "\n",
    "# Plot the surface.\n",
    "surf = ax.plot_surface(X, Y,Z, cmap=cm.hot)\n",
    "                       \n",
    "\n",
    "# Customize the z axis.\n",
    "\n",
    "# A StrMethodFormatter is used automatically\n",
    "\n",
    "#ax.set_zlim(-9, 9)\n",
    "ax.set_xlim(-10, 10)\n",
    "#ax.set_ylim(-11, 11)\n",
    "\n",
    "\n",
    "# Add a color bar which maps values to colors.\n",
    "fig.colorbar(surf, shrink=0.5, aspect=5)\n",
    "\n",
    "plt.show()\n"
   ]
  },
  {
   "cell_type": "markdown",
   "metadata": {},
   "source": [
    "# Question 4: Reduced Row Echelon Form and Null Space"
   ]
  },
  {
   "cell_type": "markdown",
   "metadata": {},
   "source": [
    "#### First generate a random $3 \\times 3$ integer matrix $B$ and check its rank:\n",
    "- `B = rmat(3, 3)`\n",
    "- `np.linalg.matrix_rank(B)`"
   ]
  },
  {
   "cell_type": "code",
   "execution_count": 51,
   "metadata": {},
   "outputs": [
    {
     "name": "stdout",
     "output_type": "stream",
     "text": [
      "[[0. 9. 7.]\n",
      " [4. 3. 4.]\n",
      " [9. 7. 7.]]\n",
      "\n",
      "rank(B)\n",
      "3\n"
     ]
    }
   ],
   "source": [
    "#type your code here:\n",
    "B = rmat(3, 3)\n",
    "print(B)\n",
    "print(f\"\\nrank(B)\\n{np.linalg.matrix_rank(B)}\")\n",
    "#np.linalg.matrix_rank(B)\n"
   ]
  },
  {
   "cell_type": "markdown",
   "metadata": {},
   "source": [
    "#### Since $B$ is random, it is very likely to have rank $3$. If not, generate another $B$ until this is true. Now use $B$ to define a $3 \\times 5$ matrix $A$ and its reduced row echelon form $R$ by\n",
    "\n",
    "- `A = np.block([B[:, [0]], B[:, [1]], 2 * B[:, [0]] + 3 * B[:, [1]], 4 * B[:, [0]] - 5 * B[:, [1]], B[:, [2]]])`\n",
    "- `R = rref(A)`\n",
    "\n",
    "#### (a) Use the definition of $A$ in terms of $B$ and the Column Correspondence Property to answer the following.\n",
    "\n",
    "- Explain why columns #1, #2, and #5 are the pivot columns of A and R.\n",
    "- Explain why column #3 of R is the vector $\\begin{bmatrix} 2 \\\\ 3 \\\\ 0   \\end{bmatrix}$ and column #4 of R is the vector $\\begin{bmatrix} 4 \\\\ -5 \\\\ 0   \\end{bmatrix}$ "
   ]
  },
  {
   "cell_type": "markdown",
   "metadata": {},
   "source": [
    "### -------------------------------------Type your answer here------------------------------------------------------------ ###\n",
    "1- Because Columns 1,2,5 are linearly independent.\n",
    "\n",
    "2- Column 3 and 4 we made already by a combination of vectors from the above equation \"A = ...... \".\n",
    "\n",
    "So Col 3 = 2 * B[:, [0]] + 3 * B[:, [1]] \n",
    "Col 4 = 4 * B[:, [0]] - 5 * B[:, [1]]\n",
    "\n",
    "### ---------------------------------------------------------------------------------------------------------------------------------- ###"
   ]
  },
  {
   "cell_type": "code",
   "execution_count": 53,
   "metadata": {},
   "outputs": [
    {
     "name": "stdout",
     "output_type": "stream",
     "text": [
      "-----------A--------------\n",
      "[[  0.   9.  27. -45.   7.]\n",
      " [  4.   3.  17.   1.   4.]\n",
      " [  9.   7.  39.   1.   7.]]\n",
      "-----------R------------\n",
      "[[ 1.  0.  2.  4.  0.]\n",
      " [ 0.  1.  3. -5.  0.]\n",
      " [ 0.  0.  0.  0.  1.]]\n"
     ]
    }
   ],
   "source": [
    "#type your code here:\n",
    "A = np.block([B[:, [0]], B[:, [1]], 2 * B[:, [0]] + 3 * B[:, [1]], 4 * B[:, [0]] - 5 * B[:, [1]], B[:, [2]]])\n",
    "print(f\"-----------A--------------\\n{A}\")\n",
    "R = rref(A)\n",
    "print(f\"-----------R------------\\n{R}\")"
   ]
  },
  {
   "cell_type": "markdown",
   "metadata": {},
   "source": [
    "#### (b) Let $V$ be the set of solutions to the homogeneous system of equations $Ax = 0$ (the null space of $A$). In the equation $Ax = 0$ (where $x \\in R^5$), \n",
    "\n",
    "- what are the free variables and what is dim V ?"
   ]
  },
  {
   "cell_type": "markdown",
   "metadata": {},
   "source": [
    "### -------------------------------------Type your answer here------------------------------------------------------------ ###\n",
    "The free variables are x3 and x4 \"Column 3 and 4\"\n",
    "\n",
    "the Dim of V is 2  -----> \"2 vectors each one is in shape (5,1)\".\n",
    "\n",
    "\n",
    "### ---------------------------------------------------------------------------------------------------------------------------------- ###"
   ]
  },
  {
   "cell_type": "markdown",
   "metadata": {},
   "source": [
    "#### (c) Use the python function that was defined in the first cell `nulbasis` to calculate the special solutions to the system of equations $Ax = 0$:\n",
    "\n",
    "- `N = nulbasis(A)`\n",
    "\n",
    "#### The columns of $N$ are the solutions to $Ax = 0$ obtained by setting one free variable to 1 and all the other free variables to 0. Define:\n",
    "- `v1 = N[:,[0]]`\n",
    "- `v2 = N[:,[1]]`\n",
    "\n",
    "(Notice that `v1` and `v2` are 5-component vectors, not scalars.)\n",
    "\n",
    "1. Which component of v1 is 1 and which components of v1 are zero?\n",
    "\n",
    "2. Which component of v2 is 1 and which components of v2 are zero?\n",
    "\n",
    "3. Check by python that v1 and v2 are in null space of A."
   ]
  },
  {
   "cell_type": "markdown",
   "metadata": {},
   "source": [
    "### -------------------------------------Type your answer here------------------------------------------------------------ ###\n",
    "1- v1: The third component is 1 and the forth is 0    Note: That means the other free variables are zeros  \n",
    "2- v2: The forth component is 1 and the third is 0    Note: That means the other free variables are zeros\n",
    "3- Already checked below both lead to Null space.\n",
    "\n",
    "### ---------------------------------------------------------------------------------------------------------------------------------- ###"
   ]
  },
  {
   "cell_type": "code",
   "execution_count": 54,
   "metadata": {},
   "outputs": [
    {
     "name": "stdout",
     "output_type": "stream",
     "text": [
      "------N------\n",
      "[[-2. -4.]\n",
      " [-3.  5.]\n",
      " [ 1.  0.]\n",
      " [ 0.  1.]\n",
      " [ 0.  0.]]\n",
      "------v1------\n",
      "[[-2.]\n",
      " [-3.]\n",
      " [ 1.]\n",
      " [ 0.]\n",
      " [ 0.]]\n",
      "\n",
      "------v2------\n",
      "[[-4.]\n",
      " [ 5.]\n",
      " [ 0.]\n",
      " [ 1.]\n",
      " [ 0.]]\n",
      "\n",
      "------A @ v1 ------\n",
      "[[0.]\n",
      " [0.]\n",
      " [0.]]\n",
      "\n",
      "------A @ v2 ------\n",
      "[[0.]\n",
      " [0.]\n",
      " [0.]]\n"
     ]
    }
   ],
   "source": [
    "#type your code here:\n",
    "N = nulbasis(A)\n",
    "print(f\"------N------\\n{N}\")\n",
    "v1 = N[:,[0]]\n",
    "print(f\"------v1------\\n{v1}\")\n",
    "v2 = N[:,[1]]\n",
    "print(f\"\\n------v2------\\n{v2}\")\n",
    "print(f\"\\n------A @ v1 ------\\n{A @ v1}\")\n",
    "print(f\"\\n------A @ v2 ------\\n{A @ v2}\")\n"
   ]
  },
  {
   "cell_type": "markdown",
   "metadata": {},
   "source": [
    "#### (d) Now generate a random linear combination `x` of the vectors `v1` and `v2`:\n",
    "- `s = np.random.rand(1)` \n",
    "- `t = np.random.rand(1)` \n",
    "- `x = s * v1 + t * v2`\n",
    "\n",
    "(Note that each occurrence of rand(1) generates a different random coefficient).\n",
    "\n",
    "- Explain (without python) why $x$ satisfies $Ax = 0$ and $Rx = 0$. Then confirm this by python"
   ]
  },
  {
   "cell_type": "markdown",
   "metadata": {},
   "source": [
    "### -------------------------------------Type your answer here------------------------------------------------------------ ###\n",
    "1- Because of that x itself is linearly combined from two vectors that lead to Null space so x should lead too.\n",
    "2- As said above The rref (R) of matrix (A) both are the same its only change in shape so the effect of x is the same on the two matrices either the Original One (A) or The rref one (R).\n",
    "\n",
    "### ---------------------------------------------------------------------------------------------------------------------------------- ###"
   ]
  },
  {
   "cell_type": "code",
   "execution_count": 56,
   "metadata": {},
   "outputs": [
    {
     "name": "stdout",
     "output_type": "stream",
     "text": [
      "------------A @ x--------\n",
      "[[1.77635684e-15]\n",
      " [1.77635684e-15]\n",
      " [0.00000000e+00]]\n",
      "------------R @ x--------\n",
      "[[0.00000000e+00]\n",
      " [3.33066907e-16]\n",
      " [0.00000000e+00]]\n"
     ]
    }
   ],
   "source": [
    "#type your code here:\n",
    "s = np.random.rand(1)\n",
    "t = np.random.rand(1)\n",
    "x = s * v1 + t * v2\n",
    "R = rref(A)\n",
    "print(f\"------------A @ x--------\\n{A @ x}\")\n",
    "print(f\"------------R @ x--------\\n{R @ x}\")"
   ]
  }
 ],
 "metadata": {
  "kernelspec": {
   "display_name": "Python 3 (ipykernel)",
   "language": "python",
   "name": "python3"
  },
  "language_info": {
   "codemirror_mode": {
    "name": "ipython",
    "version": 3
   },
   "file_extension": ".py",
   "mimetype": "text/x-python",
   "name": "python",
   "nbconvert_exporter": "python",
   "pygments_lexer": "ipython3",
   "version": "3.8.12"
  }
 },
 "nbformat": 4,
 "nbformat_minor": 4
}
